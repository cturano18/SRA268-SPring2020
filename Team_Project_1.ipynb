{
  "nbformat": 4,
  "nbformat_minor": 0,
  "metadata": {
    "colab": {
      "name": "Team Project 1",
      "provenance": [],
      "include_colab_link": true
    },
    "kernelspec": {
      "name": "python3",
      "display_name": "Python 3"
    }
  },
  "cells": [
    {
      "cell_type": "markdown",
      "metadata": {
        "id": "view-in-github",
        "colab_type": "text"
      },
      "source": [
        "<a href=\"https://colab.research.google.com/github/cturano18/SRA268-SPring2020/blob/master/Team_Project_1.ipynb\" target=\"_parent\"><img src=\"https://colab.research.google.com/assets/colab-badge.svg\" alt=\"Open In Colab\"/></a>"
      ]
    },
    {
      "cell_type": "markdown",
      "metadata": {
        "id": "XczVjYpzVKHT",
        "colab_type": "text"
      },
      "source": [
        "#Title: Team Project 1"
      ]
    },
    {
      "cell_type": "markdown",
      "metadata": {
        "id": "hpkjflfgVOnY",
        "colab_type": "text"
      },
      "source": [
        "Team members:\n",
        "\n",
        "*  Gianna Giacalone\n",
        "*  Zoe Evans\n",
        "*  Colleen Turano"
      ]
    },
    {
      "cell_type": "markdown",
      "metadata": {
        "id": "ec9kzzd9YXC9",
        "colab_type": "text"
      },
      "source": [
        "#Original Project (Lab 1 Assignment)"
      ]
    },
    {
      "cell_type": "markdown",
      "metadata": {
        "id": "6YEEjPkJYech",
        "colab_type": "text"
      },
      "source": [
        "This project will use the NOAA data to explore whether or not there is a correlation between TMIN (minimum temperature on that day (F)) and SNOW (snow in inches). The proposed correlation assumes that the lower the temperature on that given day, the more snow in inches there also was. The month of January (2019) will be used to explore this idea."
      ]
    },
    {
      "cell_type": "markdown",
      "metadata": {
        "id": "hyaYXsuZYgxC",
        "colab_type": "text"
      },
      "source": [
        "![Graph for Lab 1](https://raw.githubusercontent.com/zje5024/SRA-268-Lab-1/master/images/sra268graphlab1.png) "
      ]
    },
    {
      "cell_type": "markdown",
      "metadata": {
        "id": "afllYed-YkUZ",
        "colab_type": "text"
      },
      "source": [
        "By plotting the data points between T-MIN (minimum temperature on that dat (F)) and SNOW (snow in inches), it is evident that there is no strong correlation between the two variables. It was initially thought that the lower the temperature on a given day, the more snow in inches there also was. The data points for the month of January 2019 were used and are visually represented on the graph above."
      ]
    },
    {
      "cell_type": "markdown",
      "metadata": {
        "id": "cDz516h4Ynmb",
        "colab_type": "text"
      },
      "source": [
        "#Team Project 1 "
      ]
    },
    {
      "cell_type": "markdown",
      "metadata": {
        "id": "Dbf9aB_LYqgL",
        "colab_type": "text"
      },
      "source": [
        "In this assignment we are taking two visual retinal encodings from color, shape, and size to distinct three different graphs from the good, the bad, and the ugly. This in other terms is representing three graphs that a reader will be able to interpret as easiest to read to hardest to understand. "
      ]
    },
    {
      "cell_type": "markdown",
      "metadata": {
        "id": "zF8LrYZDVTv0",
        "colab_type": "text"
      },
      "source": [
        "#The Good"
      ]
    },
    {
      "cell_type": "markdown",
      "metadata": {
        "id": "KNeKmdA0VvXs",
        "colab_type": "text"
      },
      "source": [
        "This graph is good because it clearly shows where the max temperature is on the graph. With the coloring and line graph structure all the data is properly placed and situated at a spot where it is pleasing to the eye of a viewer and can clearly understand the data points. Our goal was to show where the max temperature on the day of January 12th of whatever year it was the highest between the years of 2000-2020. Our encodings used have shown that the maximum temperature happen on the year of 2018 and can be clearly depicted by hovering over that point on the graph and showing the reader the answer or just by visually looking at the graph. \n"
      ]
    },
    {
      "cell_type": "code",
      "metadata": {
        "id": "3fJRujm1spC5",
        "colab_type": "code",
        "outputId": "0b14e8ca-340e-4dda-fcad-e3bb93589e71",
        "colab": {
          "base_uri": "https://localhost:8080/",
          "height": 941
        }
      },
      "source": [
        "import IPython\n",
        "IPython.display.HTML(\"<div class='tableauPlaceholder' id='viz1580944842434' style='position: relative'><noscript><a href='#'><img alt=' ' src='https:&#47;&#47;public.tableau.com&#47;static&#47;images&#47;Th&#47;TheGood_15809443366000&#47;Sheet1&#47;1_rss.png' style='border: none' /></a></noscript><object class='tableauViz'  style='display:none;'><param name='host_url' value='https%3A%2F%2Fpublic.tableau.com%2F' /> <param name='embed_code_version' value='3' /> <param name='site_root' value='' /><param name='name' value='TheGood_15809443366000&#47;Sheet1' /><param name='tabs' value='no' /><param name='toolbar' value='yes' /><param name='static_image' value='https:&#47;&#47;public.tableau.com&#47;static&#47;images&#47;Th&#47;TheGood_15809443366000&#47;Sheet1&#47;1.png' /> <param name='animate_transition' value='yes' /><param name='display_static_image' value='yes' /><param name='display_spinner' value='yes' /><param name='display_overlay' value='yes' /><param name='display_count' value='yes' /><param name='filter' value='publish=yes' /></object></div>                <script type='text/javascript'>                    var divElement = document.getElementById('viz1580944842434');                    var vizElement = divElement.getElementsByTagName('object')[0];                    vizElement.style.width='100%';vizElement.style.height=(divElement.offsetWidth*0.75)+'px';                    var scriptElement = document.createElement('script');                    scriptElement.src = 'https://public.tableau.com/javascripts/api/viz_v1.js';                    vizElement.parentNode.insertBefore(scriptElement, vizElement);                </script>\")\n"
      ],
      "execution_count": 0,
      "outputs": [
        {
          "output_type": "execute_result",
          "data": {
            "text/html": [
              "<div class='tableauPlaceholder' id='viz1580944842434' style='position: relative'><noscript><a href='#'><img alt=' ' src='https:&#47;&#47;public.tableau.com&#47;static&#47;images&#47;Th&#47;TheGood_15809443366000&#47;Sheet1&#47;1_rss.png' style='border: none' /></a></noscript><object class='tableauViz'  style='display:none;'><param name='host_url' value='https%3A%2F%2Fpublic.tableau.com%2F' /> <param name='embed_code_version' value='3' /> <param name='site_root' value='' /><param name='name' value='TheGood_15809443366000&#47;Sheet1' /><param name='tabs' value='no' /><param name='toolbar' value='yes' /><param name='static_image' value='https:&#47;&#47;public.tableau.com&#47;static&#47;images&#47;Th&#47;TheGood_15809443366000&#47;Sheet1&#47;1.png' /> <param name='animate_transition' value='yes' /><param name='display_static_image' value='yes' /><param name='display_spinner' value='yes' /><param name='display_overlay' value='yes' /><param name='display_count' value='yes' /><param name='filter' value='publish=yes' /></object></div>                <script type='text/javascript'>                    var divElement = document.getElementById('viz1580944842434');                    var vizElement = divElement.getElementsByTagName('object')[0];                    vizElement.style.width='100%';vizElement.style.height=(divElement.offsetWidth*0.75)+'px';                    var scriptElement = document.createElement('script');                    scriptElement.src = 'https://public.tableau.com/javascripts/api/viz_v1.js';                    vizElement.parentNode.insertBefore(scriptElement, vizElement);                </script>"
            ],
            "text/plain": [
              "<IPython.core.display.HTML object>"
            ]
          },
          "metadata": {
            "tags": []
          },
          "execution_count": 8
        }
      ]
    },
    {
      "cell_type": "markdown",
      "metadata": {
        "id": "WeuOSWtKV8tS",
        "colab_type": "text"
      },
      "source": [
        "#The Bad"
      ]
    },
    {
      "cell_type": "markdown",
      "metadata": {
        "id": "Z2xHSr2uV_x4",
        "colab_type": "text"
      },
      "source": [
        "This graph can be seen as bad due to the misleading information that has been shown. The long exaggerate lines on the graph can make the reader think that there is a lot more snow that day than they actually did have. Also it doesn't specifically state that the snow is measured in inches, so this could mean the reader may not know exactly how much snow this day got throughout the years. There are only two points on the graph that are visibly identifiable that there was a good amount of snow but this does not mean to the reader to disregard the other points on the graph. By using this graph it could potentially deceive the readers understandings and the reader could interpret the graph wrong. "
      ]
    },
    {
      "cell_type": "code",
      "metadata": {
        "id": "-UmumjkvuXvJ",
        "colab_type": "code",
        "outputId": "301d8ff2-25b9-4128-d251-e9d9d54b9eed",
        "colab": {
          "base_uri": "https://localhost:8080/",
          "height": 941
        }
      },
      "source": [
        "import IPython\n",
        "IPython.display.HTML(\"<div class='tableauPlaceholder' id='viz1580945854367' style='position: relative'><noscript><a href='#'><img alt=' ' src='https:&#47;&#47;public.tableau.com&#47;static&#47;images&#47;Th&#47;TheUgly_15809458468080&#47;Sheet1&#47;1_rss.png' style='border: none' /></a></noscript><object class='tableauViz'  style='display:none;'><param name='host_url' value='https%3A%2F%2Fpublic.tableau.com%2F' /> <param name='embed_code_version' value='3' /> <param name='site_root' value='' /><param name='name' value='TheUgly_15809458468080&#47;Sheet1' /><param name='tabs' value='no' /><param name='toolbar' value='yes' /><param name='static_image' value='https:&#47;&#47;public.tableau.com&#47;static&#47;images&#47;Th&#47;TheUgly_15809458468080&#47;Sheet1&#47;1.png' /> <param name='animate_transition' value='yes' /><param name='display_static_image' value='yes' /><param name='display_spinner' value='yes' /><param name='display_overlay' value='yes' /><param name='display_count' value='yes' /><param name='filter' value='publish=yes' /></object></div>                <script type='text/javascript'>                    var divElement = document.getElementById('viz1580945854367');                    var vizElement = divElement.getElementsByTagName('object')[0];                    vizElement.style.width='100%';vizElement.style.height=(divElement.offsetWidth*0.75)+'px';                    var scriptElement = document.createElement('script');                    scriptElement.src = 'https://public.tableau.com/javascripts/api/viz_v1.js';                    vizElement.parentNode.insertBefore(scriptElement, vizElement);                </script>\")"
      ],
      "execution_count": 0,
      "outputs": [
        {
          "output_type": "execute_result",
          "data": {
            "text/html": [
              "<div class='tableauPlaceholder' id='viz1580945854367' style='position: relative'><noscript><a href='#'><img alt=' ' src='https:&#47;&#47;public.tableau.com&#47;static&#47;images&#47;Th&#47;TheUgly_15809458468080&#47;Sheet1&#47;1_rss.png' style='border: none' /></a></noscript><object class='tableauViz'  style='display:none;'><param name='host_url' value='https%3A%2F%2Fpublic.tableau.com%2F' /> <param name='embed_code_version' value='3' /> <param name='site_root' value='' /><param name='name' value='TheUgly_15809458468080&#47;Sheet1' /><param name='tabs' value='no' /><param name='toolbar' value='yes' /><param name='static_image' value='https:&#47;&#47;public.tableau.com&#47;static&#47;images&#47;Th&#47;TheUgly_15809458468080&#47;Sheet1&#47;1.png' /> <param name='animate_transition' value='yes' /><param name='display_static_image' value='yes' /><param name='display_spinner' value='yes' /><param name='display_overlay' value='yes' /><param name='display_count' value='yes' /><param name='filter' value='publish=yes' /></object></div>                <script type='text/javascript'>                    var divElement = document.getElementById('viz1580945854367');                    var vizElement = divElement.getElementsByTagName('object')[0];                    vizElement.style.width='100%';vizElement.style.height=(divElement.offsetWidth*0.75)+'px';                    var scriptElement = document.createElement('script');                    scriptElement.src = 'https://public.tableau.com/javascripts/api/viz_v1.js';                    vizElement.parentNode.insertBefore(scriptElement, vizElement);                </script>"
            ],
            "text/plain": [
              "<IPython.core.display.HTML object>"
            ]
          },
          "metadata": {
            "tags": []
          },
          "execution_count": 14
        }
      ]
    },
    {
      "cell_type": "markdown",
      "metadata": {
        "id": "MhYU7icpWEGl",
        "colab_type": "text"
      },
      "source": [
        "#The Ugly"
      ]
    },
    {
      "cell_type": "markdown",
      "metadata": {
        "id": "bPc_jOaTWF4A",
        "colab_type": "text"
      },
      "source": [
        "This graph shows the minimum temperature for January 12th over the years of 2000-2020. Although this graph does show where the minimum temperature is it is poorly shown. The graph has many minimum points all over the place making it unpleasant to the eye of the viewer. The lines make it confusing on where the lowest point would be and which lowest point to look at. The lowest points can range from the high thirties to low teens. This can make it unpleasant for the viewer to understand the graph. "
      ]
    },
    {
      "cell_type": "code",
      "metadata": {
        "id": "PlHhVu7Utjcw",
        "colab_type": "code",
        "outputId": "97b60ada-ba20-4c44-9197-80ab08405c92",
        "colab": {
          "base_uri": "https://localhost:8080/",
          "height": 941
        }
      },
      "source": [
        "import IPython\n",
        "IPython.display.HTML(\"<div class='tableauPlaceholder' id='viz1580945715242' style='position: relative'><noscript><a href='#'><img alt=' ' src='https:&#47;&#47;public.tableau.com&#47;static&#47;images&#47;Th&#47;TheBad_15809457061280&#47;Sheet1&#47;1_rss.png' style='border: none' /></a></noscript><object class='tableauViz'  style='display:none;'><param name='host_url' value='https%3A%2F%2Fpublic.tableau.com%2F' /> <param name='embed_code_version' value='3' /> <param name='site_root' value='' /><param name='name' value='TheBad_15809457061280&#47;Sheet1' /><param name='tabs' value='no' /><param name='toolbar' value='yes' /><param name='static_image' value='https:&#47;&#47;public.tableau.com&#47;static&#47;images&#47;Th&#47;TheBad_15809457061280&#47;Sheet1&#47;1.png' /> <param name='animate_transition' value='yes' /><param name='display_static_image' value='yes' /><param name='display_spinner' value='yes' /><param name='display_overlay' value='yes' /><param name='display_count' value='yes' /><param name='filter' value='publish=yes' /></object></div>                <script type='text/javascript'>                    var divElement = document.getElementById('viz1580945715242');                    var vizElement = divElement.getElementsByTagName('object')[0];                    vizElement.style.width='100%';vizElement.style.height=(divElement.offsetWidth*0.75)+'px';                    var scriptElement = document.createElement('script');                    scriptElement.src = 'https://public.tableau.com/javascripts/api/viz_v1.js';                    vizElement.parentNode.insertBefore(scriptElement, vizElement);                </script>\")"
      ],
      "execution_count": 0,
      "outputs": [
        {
          "output_type": "execute_result",
          "data": {
            "text/html": [
              "<div class='tableauPlaceholder' id='viz1580945715242' style='position: relative'><noscript><a href='#'><img alt=' ' src='https:&#47;&#47;public.tableau.com&#47;static&#47;images&#47;Th&#47;TheBad_15809457061280&#47;Sheet1&#47;1_rss.png' style='border: none' /></a></noscript><object class='tableauViz'  style='display:none;'><param name='host_url' value='https%3A%2F%2Fpublic.tableau.com%2F' /> <param name='embed_code_version' value='3' /> <param name='site_root' value='' /><param name='name' value='TheBad_15809457061280&#47;Sheet1' /><param name='tabs' value='no' /><param name='toolbar' value='yes' /><param name='static_image' value='https:&#47;&#47;public.tableau.com&#47;static&#47;images&#47;Th&#47;TheBad_15809457061280&#47;Sheet1&#47;1.png' /> <param name='animate_transition' value='yes' /><param name='display_static_image' value='yes' /><param name='display_spinner' value='yes' /><param name='display_overlay' value='yes' /><param name='display_count' value='yes' /><param name='filter' value='publish=yes' /></object></div>                <script type='text/javascript'>                    var divElement = document.getElementById('viz1580945715242');                    var vizElement = divElement.getElementsByTagName('object')[0];                    vizElement.style.width='100%';vizElement.style.height=(divElement.offsetWidth*0.75)+'px';                    var scriptElement = document.createElement('script');                    scriptElement.src = 'https://public.tableau.com/javascripts/api/viz_v1.js';                    vizElement.parentNode.insertBefore(scriptElement, vizElement);                </script>"
            ],
            "text/plain": [
              "<IPython.core.display.HTML object>"
            ]
          },
          "metadata": {
            "tags": []
          },
          "execution_count": 15
        }
      ]
    }
  ]
}